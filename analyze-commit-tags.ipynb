{
 "cells": [
  {
   "cell_type": "code",
   "execution_count": null,
   "id": "3d8a9e2a",
   "metadata": {
    "scrolled": false
   },
   "outputs": [],
   "source": [
    "from loading import load_commits\n",
    "\n",
    "all_commits = load_commits()"
   ]
  },
  {
   "cell_type": "code",
   "execution_count": null,
   "id": "7ecd3fbd",
   "metadata": {},
   "outputs": [],
   "source": [
    "all_messages = list(all_commits['message'])"
   ]
  },
  {
   "cell_type": "code",
   "execution_count": null,
   "id": "1ed14a3d",
   "metadata": {
    "scrolled": false
   },
   "outputs": [],
   "source": [
    "import nltk\n",
    "import re\n",
    "import multiprocessing\n",
    "\n",
    "from tagging import message_to_tag\n",
    "\n",
    "with multiprocessing.Pool() as p:\n",
    "  tagged_messages = p.map(message_to_tag, all_messages)\n",
    "  tags = [tag for (message, tag) in tagged_messages if tag]\n",
    "\n",
    "tag_freq_dist = nltk.FreqDist(tags)\n",
    "tag_freq_dist.most_common(25)"
   ]
  }
 ],
 "metadata": {
  "kernelspec": {
   "display_name": "Python 3",
   "language": "python",
   "name": "python3"
  },
  "language_info": {
   "codemirror_mode": {
    "name": "ipython",
    "version": 3
   },
   "file_extension": ".py",
   "mimetype": "text/x-python",
   "name": "python",
   "nbconvert_exporter": "python",
   "pygments_lexer": "ipython3",
   "version": "3.9.5"
  }
 },
 "nbformat": 4,
 "nbformat_minor": 5
}
