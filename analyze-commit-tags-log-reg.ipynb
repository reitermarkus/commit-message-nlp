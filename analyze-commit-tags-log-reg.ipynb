{
 "cells": [
  {
   "cell_type": "code",
   "execution_count": null,
   "id": "3d8a9e2a",
   "metadata": {
    "scrolled": false
   },
   "outputs": [],
   "source": [
    "from loading import load_commits\n",
    "\n",
    "all_commits = load_commits()"
   ]
  },
  {
   "cell_type": "code",
   "execution_count": null,
   "id": "8314b63c",
   "metadata": {
    "scrolled": true
   },
   "outputs": [],
   "source": [
    "import multiprocessing\n",
    "\n",
    "import helpers\n",
    "\n",
    "from tagging import message_to_known_tag\n",
    "\n",
    "tagged_commits = all_commits.copy()\n",
    "\n",
    "with multiprocessing.Pool() as p:\n",
    "  tagged_commits[['message', 'tag']] = p.map(message_to_known_tag, list(tagged_commits['message']))\n",
    "  tagged_commits['message'] = p.map(helpers.tokenize, tagged_commits['message'])\n",
    "\n",
    "tagged_commits.dropna(subset=['tag'], inplace=True)\n",
    "tagged_commits = tagged_commits.sample(frac=1)\n",
    "tagged_commits.reset_index(inplace=True)\n",
    "tagged_commits.head(10)"
   ]
  },
  {
   "cell_type": "code",
   "execution_count": null,
   "id": "0ef4a6c1",
   "metadata": {},
   "outputs": [],
   "source": [
    "print(f'{len(tagged_commits)}/{len(all_commits)}')"
   ]
  },
  {
   "cell_type": "code",
   "execution_count": null,
   "id": "540d1677",
   "metadata": {},
   "outputs": [],
   "source": [
    "import nltk\n",
    "import pandas as pd\n",
    "\n",
    "freq_dist = nltk.FreqDist(tagged_commits['tag'])\n",
    "pd.DataFrame(freq_dist.items(), columns=['tag', 'count'])"
   ]
  },
  {
   "cell_type": "code",
   "execution_count": null,
   "id": "a08d225f",
   "metadata": {},
   "outputs": [],
   "source": [
    "from sklearn.preprocessing import LabelEncoder\n",
    "label_encoder = LabelEncoder()\n",
    "\n",
    "tagged_commits['label'] = label_encoder.fit_transform(tagged_commits['tag'])\n",
    "target_data = tagged_commits['label']\n",
    "tagged_commits.head(10)"
   ]
  },
  {
   "cell_type": "code",
   "execution_count": null,
   "id": "7234082b",
   "metadata": {},
   "outputs": [],
   "source": [
    "from sklearn.feature_extraction.text import CountVectorizer\n",
    "\n",
    "vect = CountVectorizer() \n",
    "\n",
    "source_data = vect.fit_transform([\" \".join(message) for message in tagged_commits[\"message\"]])\n",
    "source_data"
   ]
  },
  {
   "cell_type": "code",
   "execution_count": null,
   "id": "03b5d277",
   "metadata": {
    "scrolled": false
   },
   "outputs": [],
   "source": [
    "import multiprocessing\n",
    "\n",
    "import numpy as np\n",
    "from sklearn.model_selection import KFold\n",
    "\n",
    "kf = KFold(n_splits=10)\n",
    "\n",
    "print(\"Splits:\", kf.get_n_splits(source_data))\n",
    "print()\n",
    "\n",
    "# results = list(map(helpers.test, enumerate((index, source_data, target_data) for index in kf.split(source_data))))\n",
    "\n",
    "with multiprocessing.Pool() as p:\n",
    "  results = p.map(helpers.test, list(enumerate((index, source_data, target_data) for index in kf.split(source_data))))\n",
    "\n",
    "accuracy, f1_micro, f1_macro = np.mean(results, axis=0)\n",
    "\n",
    "print(\"Total Accuracy:\", accuracy)\n",
    "print(\"Total F1 micro:\", f1_micro)\n",
    "print(\"Total F1 macro:\", f1_macro)"
   ]
  }
 ],
 "metadata": {
  "kernelspec": {
   "display_name": "Python 3",
   "language": "python",
   "name": "python3"
  },
  "language_info": {
   "codemirror_mode": {
    "name": "ipython",
    "version": 3
   },
   "file_extension": ".py",
   "mimetype": "text/x-python",
   "name": "python",
   "nbconvert_exporter": "python",
   "pygments_lexer": "ipython3",
   "version": "3.9.5"
  }
 },
 "nbformat": 4,
 "nbformat_minor": 5
}
